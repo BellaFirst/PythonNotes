{
 "cells": [
  {
   "cell_type": "markdown",
   "metadata": {},
   "source": [
    "# 生成随机数"
   ]
  },
  {
   "cell_type": "markdown",
   "metadata": {},
   "source": [
    "# Torch"
   ]
  },
  {
   "cell_type": "code",
   "execution_count": 1,
   "metadata": {},
   "outputs": [],
   "source": [
    "import torch"
   ]
  },
  {
   "cell_type": "code",
   "execution_count": 3,
   "metadata": {},
   "outputs": [
    {
     "data": {
      "text/plain": [
       "tensor(5)"
      ]
     },
     "execution_count": 3,
     "metadata": {},
     "output_type": "execute_result"
    }
   ],
   "source": [
    "torch.tensor(5)"
   ]
  },
  {
   "cell_type": "code",
   "execution_count": 2,
   "metadata": {},
   "outputs": [
    {
     "data": {
      "text/plain": [
       "tensor([[0.2828, 0.0032, 0.2511],\n",
       "        [0.1414, 0.3980, 0.8461]])"
      ]
     },
     "execution_count": 2,
     "metadata": {},
     "output_type": "execute_result"
    }
   ],
   "source": [
    "# 1. torch.rand 均匀分布\n",
    "a = torch.rand(2,3)\n",
    "a"
   ]
  },
  {
   "cell_type": "code",
   "execution_count": 4,
   "metadata": {},
   "outputs": [
    {
     "data": {
      "text/plain": [
       "tensor([[ 0.0188,  2.1887,  1.1742],\n",
       "        [-0.8135, -2.7614,  0.1584]])"
      ]
     },
     "execution_count": 4,
     "metadata": {},
     "output_type": "execute_result"
    }
   ],
   "source": [
    "# 2. 标准正太分布 torch.randn 有负值\n",
    "b = torch.randn(2,3)\n",
    "b"
   ]
  },
  {
   "cell_type": "code",
   "execution_count": 13,
   "metadata": {},
   "outputs": [
    {
     "data": {
      "text/plain": [
       "tensor([0.6371, 1.8696, 2.2580])"
      ]
     },
     "execution_count": 13,
     "metadata": {},
     "output_type": "execute_result"
    }
   ],
   "source": [
    "# 3. 离散正太分布 torch.normal(means, std,)\n",
    "mean = torch.tensor([1,2,3],dtype=torch.float) #mean std的数据类型要保证\n",
    "std = torch.tensor([1,1,1], dtype=torch.float)\n",
    "torch.normal(mean, std)"
   ]
  },
  {
   "cell_type": "code",
   "execution_count": 12,
   "metadata": {},
   "outputs": [
    {
     "data": {
      "text/plain": [
       "tensor([0.0000, 0.1111, 0.2222, 0.3333, 0.4444, 0.5556, 0.6667, 0.7778, 0.8889,\n",
       "        1.0000])"
      ]
     },
     "execution_count": 12,
     "metadata": {},
     "output_type": "execute_result"
    }
   ],
   "source": [
    "# 4. 线性间距向量 torch.linsapce(start, end, steps=100) --> Tensor\n",
    "torch.linspace(0,1,10) #包括首尾，产生的数相同"
   ]
  },
  {
   "cell_type": "markdown",
   "metadata": {},
   "source": [
    "## Numpy"
   ]
  },
  {
   "cell_type": "markdown",
   "metadata": {},
   "source": [
    "### 1. 生成器\n",
    "\n",
    "- 随机数是随机种子根据一定的计算方法计算出来的数值，如果随机种子不变，那么，产生的随机数就不会变\n",
    "- 只要不设置随机种子，默认情况下随机种子来自系统的时钟\n",
    "- 随机数产生的算法与系统有关，不同系统产生的随机数不一样"
   ]
  },
  {
   "cell_type": "markdown",
   "metadata": {},
   "source": [
    "> numpy.random设置种子的方法\n",
    "\n",
    "| 函数名称 | 函数功能 | 参数说明 |\n",
    "| -------- | -------- | -------- |\n",
    "| RandomState | 定义种子类 | RandomState是一个种子类，提供各种种子方法，最常用的是seed |\n",
    "| seed([seed]) | 定义全局种子 | 参数为整数或矩阵 |"
   ]
  },
  {
   "cell_type": "code",
   "execution_count": 16,
   "metadata": {},
   "outputs": [],
   "source": [
    "import numpy as np"
   ]
  },
  {
   "cell_type": "code",
   "execution_count": 18,
   "metadata": {},
   "outputs": [],
   "source": [
    "np.random.seed(1234) #设置随机种子"
   ]
  },
  {
   "cell_type": "markdown",
   "metadata": {},
   "source": [
    "### 2. 简单随机数"
   ]
  },
  {
   "cell_type": "code",
   "execution_count": 19,
   "metadata": {},
   "outputs": [
    {
     "data": {
      "text/plain": [
       "array([[0.19151945, 0.62210877, 0.43772774],\n",
       "       [0.78535858, 0.77997581, 0.27259261]])"
      ]
     },
     "execution_count": 19,
     "metadata": {},
     "output_type": "execute_result"
    }
   ],
   "source": [
    "# 均匀分布随机数 np.random.rand()\n",
    "np.random.rand(2,3)"
   ]
  },
  {
   "cell_type": "code",
   "execution_count": 20,
   "metadata": {},
   "outputs": [
    {
     "data": {
      "text/plain": [
       "array([[ 0.85958841, -0.6365235 ,  0.01569637],\n",
       "       [-2.24268495,  1.15003572,  0.99194602]])"
      ]
     },
     "execution_count": 20,
     "metadata": {},
     "output_type": "execute_result"
    }
   ],
   "source": [
    "# 标准正态分布随机数 np.random.randn()\n",
    "np.random.randn(2,3)"
   ]
  },
  {
   "cell_type": "code",
   "execution_count": 21,
   "metadata": {},
   "outputs": [
    {
     "data": {
      "text/plain": [
       "array([[6, 2, 0],\n",
       "       [5, 2, 6]])"
      ]
     },
     "execution_count": 21,
     "metadata": {},
     "output_type": "execute_result"
    }
   ],
   "source": [
    "# 随机整数 np.random.randint(low, high, size, dtype)\n",
    "np.random.randint(0,10,(2,3))"
   ]
  },
  {
   "cell_type": "code",
   "execution_count": 22,
   "metadata": {},
   "outputs": [
    {
     "data": {
      "text/plain": [
       "array([[0.88264119, 0.36488598, 0.61539618],\n",
       "       [0.07538124, 0.36882401, 0.9331401 ]])"
      ]
     },
     "execution_count": 22,
     "metadata": {},
     "output_type": "execute_result"
    }
   ],
   "source": [
    "# [0,1) 之间产生随机数 .random_sample([size])\n",
    "np.random.random_sample([2,3])"
   ]
  },
  {
   "cell_type": "code",
   "execution_count": 23,
   "metadata": {},
   "outputs": [
    {
     "data": {
      "text/plain": [
       "array([[0.65137814, 0.39720258, 0.78873014],\n",
       "       [0.31683612, 0.56809865, 0.86912739]])"
      ]
     },
     "execution_count": 23,
     "metadata": {},
     "output_type": "execute_result"
    }
   ],
   "source": [
    "# .random 同上\n",
    "np.random.random([2,3])"
   ]
  },
  {
   "cell_type": "code",
   "execution_count": 24,
   "metadata": {},
   "outputs": [
    {
     "data": {
      "text/plain": [
       "array([[0.43617342, 0.80214764, 0.14376682],\n",
       "       [0.70426097, 0.70458131, 0.21879211]])"
      ]
     },
     "execution_count": 24,
     "metadata": {},
     "output_type": "execute_result"
    }
   ],
   "source": [
    "# .sample([size]) 同上\n",
    "np.random.sample([2,3])"
   ]
  },
  {
   "cell_type": "code",
   "execution_count": 30,
   "metadata": {},
   "outputs": [
    {
     "name": "stdout",
     "output_type": "stream",
     "text": [
      "[0.94812322 0.58364465 0.53155327 0.16865734 0.15880774 0.93796532\n",
      " 0.71826456 0.47654265 0.88365336 0.40420231]\n",
      "[[0.53155327 0.53155327 0.16865734]\n",
      " [0.53155327 0.40420231 0.47654265]]\n"
     ]
    }
   ],
   "source": [
    "# .choice(a[, size, replace, p]) 从a中随机选择指定数据, a 必须是一维数组\n",
    "a = np.random.rand(10)\n",
    "b = np.random.choice(a,size=[2,3])\n",
    "print(a)\n",
    "print(b)"
   ]
  },
  {
   "cell_type": "markdown",
   "metadata": {},
   "source": [
    "### 3. 分布 numpy.random模块提供了产生多种分布随机数的API\n",
    "\n",
    "| 函数名称 | 函数功能 |\n",
    "| -------- | -------- |\n",
    "| .beta(a,b[,size]) | 贝塔分布样本，在[0,1]之间 |\n",
    "| .binomial(n,p[,size]) | 二项分布|\n",
    "| chisquare(df[, size]) | 卡方分布 |\n",
    "| dirichlet(alpha[, size]) | 狄利克雷分布 |\n",
    "| exponential([scale, size]) | 指数分布 |\n",
    "| f(dfnum, dfden[, size]) | F分布 |\n",
    "| gamma(shape[, scale, size]) | 伽马分布 |\n",
    "| geometric(p[, size]) | 几何分布 |\n",
    "| hypergeometric(ngood, nbad, nsample[, size]) |  nbad, nsample[, size])\t超几何分布样本 |\n",
    "| **uniform([low, high, size])** | 均匀分布 |"
   ]
  },
  {
   "cell_type": "markdown",
   "metadata": {},
   "source": [
    "### 排列\n"
   ]
  },
  {
   "cell_type": "code",
   "execution_count": 35,
   "metadata": {},
   "outputs": [
    {
     "name": "stdout",
     "output_type": "stream",
     "text": [
      "[[0.82893194 0.74284587 0.45703374]\n",
      " [0.07910336 0.37304659 0.93363636]]\n",
      "[[0.07910336 0.37304659 0.93363636]\n",
      " [0.82893194 0.74284587 0.45703374]]\n"
     ]
    }
   ],
   "source": [
    "# .shuffle(x) 打乱顺序，多维矩阵按照第一维打乱\n",
    "x = np.random.rand(2,3)\n",
    "print(x)\n",
    "np.random.shuffle(x) #直接打乱本身函数，不用赋值\n",
    "print(x)"
   ]
  },
  {
   "cell_type": "code",
   "execution_count": 42,
   "metadata": {},
   "outputs": [
    {
     "name": "stdout",
     "output_type": "stream",
     "text": [
      "[[0.32309469 0.87142326 0.21563406 0.73494519 0.36561909 0.8016026 ]\n",
      " [0.78273559 0.70135538 0.62277659 0.49368265 0.8405377  0.71209699]\n",
      " [0.44390898 0.03103486 0.36323976 0.73072179 0.47556657 0.34441697]]\n",
      "[[0.32309469 0.87142326 0.21563406 0.73494519 0.36561909 0.8016026 ]\n",
      " [0.78273559 0.70135538 0.62277659 0.49368265 0.8405377  0.71209699]\n",
      " [0.44390898 0.03103486 0.36323976 0.73072179 0.47556657 0.34441697]]\n",
      "[[0.44390898 0.03103486 0.36323976 0.73072179 0.47556657 0.34441697]\n",
      " [0.32309469 0.87142326 0.21563406 0.73494519 0.36561909 0.8016026 ]\n",
      " [0.78273559 0.70135538 0.62277659 0.49368265 0.8405377  0.71209699]]\n"
     ]
    }
   ],
   "source": [
    "# .permutation(x) 打乱或并返回该对象，多维矩阵按第一维打乱\n",
    "y = np.random.rand(3,6)\n",
    "print(y)\n",
    "s = np.random.permutation(y) #本身不变化，打乱后的矩阵赋值给新变量，二维矩阵按列打乱\n",
    "print(y)\n",
    "print(s)"
   ]
  },
  {
   "cell_type": "code",
   "execution_count": 43,
   "metadata": {},
   "outputs": [
    {
     "data": {
      "text/plain": [
       "array([[False, False, False, False, False, False],\n",
       "       [False, False, False, False, False, False],\n",
       "       [False, False, False, False, False, False]])"
      ]
     },
     "execution_count": 43,
     "metadata": {},
     "output_type": "execute_result"
    }
   ],
   "source": [
    "s == y"
   ]
  }
 ],
 "metadata": {
  "kernelspec": {
   "display_name": "Python 3",
   "language": "python",
   "name": "python3"
  },
  "language_info": {
   "codemirror_mode": {
    "name": "ipython",
    "version": 3
   },
   "file_extension": ".py",
   "mimetype": "text/x-python",
   "name": "python",
   "nbconvert_exporter": "python",
   "pygments_lexer": "ipython3",
   "version": "3.7.9"
  }
 },
 "nbformat": 4,
 "nbformat_minor": 4
}
