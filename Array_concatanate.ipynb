{
 "cells": [
  {
   "cell_type": "markdown",
   "metadata": {},
   "source": [
    "# 一、数组拼接"
   ]
  },
  {
   "cell_type": "markdown",
   "metadata": {},
   "source": [
    "## Torch"
   ]
  },
  {
   "cell_type": "markdown",
   "metadata": {},
   "source": [
    "### 1. torch.cat"
   ]
  },
  {
   "cell_type": "code",
   "execution_count": 3,
   "metadata": {},
   "outputs": [
    {
     "data": {
      "text/plain": [
       "(tensor([1., 1., 1., 1., 1., 1., 1., 1., 1., 1.]),\n",
       " tensor([0., 0., 0., 0., 0., 0., 0., 0., 0., 0.]))"
      ]
     },
     "execution_count": 3,
     "metadata": {},
     "output_type": "execute_result"
    }
   ],
   "source": [
    "import torch\n",
    "a = torch.ones(10)\n",
    "b = torch.zeros(10)\n",
    "a,b"
   ]
  },
  {
   "cell_type": "code",
   "execution_count": 5,
   "metadata": {},
   "outputs": [
    {
     "data": {
      "text/plain": [
       "(tensor([1., 1., 1., 1., 1., 1., 1., 1., 1., 1., 0., 0., 0., 0., 0., 0., 0., 0.,\n",
       "         0., 0.]),\n",
       " tensor([1., 1., 1., 1., 1., 1., 1., 1., 1., 1., 0., 0., 0., 0., 0., 0., 0., 0.,\n",
       "         0., 0.]))"
      ]
     },
     "execution_count": 5,
     "metadata": {},
     "output_type": "execute_result"
    }
   ],
   "source": [
    "c = torch.cat((a,b),0)\n",
    "d = torch.cat((a,b),-1)\n",
    "c,d"
   ]
  },
  {
   "cell_type": "code",
   "execution_count": 7,
   "metadata": {},
   "outputs": [
    {
     "data": {
      "text/plain": [
       "(tensor([[0.4305, 0.5858, 0.6041],\n",
       "         [0.3689, 0.7339, 0.3004]]),\n",
       " tensor([[0.3952, 0.5579, 0.6647],\n",
       "         [0.3820, 0.1805, 0.4863]]))"
      ]
     },
     "execution_count": 7,
     "metadata": {},
     "output_type": "execute_result"
    }
   ],
   "source": [
    "m = torch.rand(2,3)\n",
    "n = torch.rand(2,3)\n",
    "m,n"
   ]
  },
  {
   "cell_type": "code",
   "execution_count": 15,
   "metadata": {},
   "outputs": [
    {
     "data": {
      "text/plain": [
       "tensor([[0.4305, 0.5858, 0.6041],\n",
       "        [0.3689, 0.7339, 0.3004],\n",
       "        [0.3952, 0.5579, 0.6647],\n",
       "        [0.3820, 0.1805, 0.4863]])"
      ]
     },
     "execution_count": 15,
     "metadata": {},
     "output_type": "execute_result"
    }
   ],
   "source": [
    "s1 = torch.cat((m,n),0) #dim = 0 按列拼接\n",
    "s1"
   ]
  },
  {
   "cell_type": "code",
   "execution_count": 16,
   "metadata": {},
   "outputs": [
    {
     "data": {
      "text/plain": [
       "tensor([[0.4305, 0.5858, 0.6041, 0.3952, 0.5579, 0.6647],\n",
       "        [0.3689, 0.7339, 0.3004, 0.3820, 0.1805, 0.4863]])"
      ]
     },
     "execution_count": 16,
     "metadata": {},
     "output_type": "execute_result"
    }
   ],
   "source": [
    "s2 = torch.cat((m,n),dim=1) # dim=1, 按行拼接\n",
    "s2"
   ]
  },
  {
   "cell_type": "code",
   "execution_count": 17,
   "metadata": {},
   "outputs": [
    {
     "data": {
      "text/plain": [
       "tensor([[0.4305, 0.5858, 0.6041, 0.3952, 0.5579, 0.6647, 0.4305, 0.5858, 0.6041],\n",
       "        [0.3689, 0.7339, 0.3004, 0.3820, 0.1805, 0.4863, 0.3689, 0.7339, 0.3004]])"
      ]
     },
     "execution_count": 17,
     "metadata": {},
     "output_type": "execute_result"
    }
   ],
   "source": [
    "s3 = torch.cat((s2,m),dim=1)\n",
    "s3"
   ]
  },
  {
   "cell_type": "markdown",
   "metadata": {},
   "source": [
    "> **示例分析：** \n",
    "a是[10]的列表，a一直在变化，想把这些变化都拼接到一个数组中"
   ]
  },
  {
   "cell_type": "code",
   "execution_count": 20,
   "metadata": {},
   "outputs": [
    {
     "data": {
      "text/plain": [
       "tensor([0.2426, 0.6465, 0.6805, 0.3972, 0.0939, 0.9206, 0.3735, 0.6619, 0.4411,\n",
       "        0.6900, 0.4391, 0.4374, 0.4946, 0.9330, 0.0059])"
      ]
     },
     "execution_count": 20,
     "metadata": {},
     "output_type": "execute_result"
    }
   ],
   "source": [
    "a_all = []\n",
    "for i in range(5):\n",
    "    a = torch.rand(3)\n",
    "    if i==0: a_all = a\n",
    "    else: a_all = torch.cat((a_all,a),dim=0)\n",
    "a_all"
   ]
  },
  {
   "cell_type": "code",
   "execution_count": 22,
   "metadata": {},
   "outputs": [
    {
     "data": {
      "text/plain": [
       "torch.Size([3])"
      ]
     },
     "execution_count": 22,
     "metadata": {},
     "output_type": "execute_result"
    }
   ],
   "source": [
    "a.shape"
   ]
  },
  {
   "cell_type": "code",
   "execution_count": 23,
   "metadata": {},
   "outputs": [
    {
     "data": {
      "text/plain": [
       "torch.Size([3])"
      ]
     },
     "execution_count": 23,
     "metadata": {},
     "output_type": "execute_result"
    }
   ],
   "source": [
    "a.reshape(-1,1)\n",
    "a.shape"
   ]
  },
  {
   "cell_type": "markdown",
   "metadata": {},
   "source": [
    "**注意：**不能和空列表拼接"
   ]
  },
  {
   "cell_type": "code",
   "execution_count": 11,
   "metadata": {},
   "outputs": [
    {
     "data": {
      "text/plain": [
       "([],\n",
       " tensor([[0.7906, 0.3794, 0.5541],\n",
       "         [0.7933, 0.8305, 0.9623]]))"
      ]
     },
     "execution_count": 11,
     "metadata": {},
     "output_type": "execute_result"
    }
   ],
   "source": [
    "p = []\n",
    "q = torch.rand(2,3)\n",
    "p,q"
   ]
  },
  {
   "cell_type": "code",
   "execution_count": 24,
   "metadata": {},
   "outputs": [
    {
     "ename": "TypeError",
     "evalue": "expected Tensor as element 0 in argument 0, but got list",
     "output_type": "error",
     "traceback": [
      "\u001b[0;31m---------------------------------------------------------------------------\u001b[0m",
      "\u001b[0;31mTypeError\u001b[0m                                 Traceback (most recent call last)",
      "\u001b[0;32m<ipython-input-24-01adc47454b2>\u001b[0m in \u001b[0;36m<module>\u001b[0;34m\u001b[0m\n\u001b[0;32m----> 1\u001b[0;31m \u001b[0mtorch\u001b[0m\u001b[0;34m.\u001b[0m\u001b[0mcat\u001b[0m\u001b[0;34m(\u001b[0m\u001b[0;34m(\u001b[0m\u001b[0mp\u001b[0m\u001b[0;34m,\u001b[0m\u001b[0mq\u001b[0m\u001b[0;34m)\u001b[0m\u001b[0;34m,\u001b[0m\u001b[0mdim\u001b[0m\u001b[0;34m=\u001b[0m\u001b[0;36m0\u001b[0m\u001b[0;34m)\u001b[0m\u001b[0;34m\u001b[0m\u001b[0;34m\u001b[0m\u001b[0m\n\u001b[0m",
      "\u001b[0;31mTypeError\u001b[0m: expected Tensor as element 0 in argument 0, but got list"
     ]
    }
   ],
   "source": [
    "torch.cat((p,q),dim=0)"
   ]
  },
  {
   "cell_type": "code",
   "execution_count": null,
   "metadata": {},
   "outputs": [],
   "source": []
  },
  {
   "cell_type": "markdown",
   "metadata": {},
   "source": [
    "### 2. Torch.stack 用于在某个维度上相同的数组的拼接"
   ]
  },
  {
   "cell_type": "code",
   "execution_count": 27,
   "metadata": {},
   "outputs": [
    {
     "data": {
      "text/plain": [
       "tensor([[0.6762, 0.5598, 0.9276],\n",
       "        [0.8154, 0.1286, 0.4169]])"
      ]
     },
     "execution_count": 27,
     "metadata": {},
     "output_type": "execute_result"
    }
   ],
   "source": [
    "s1 = torch.rand(2,3)\n",
    "s1"
   ]
  },
  {
   "cell_type": "code",
   "execution_count": 28,
   "metadata": {},
   "outputs": [
    {
     "data": {
      "text/plain": [
       "tensor([[0.8296, 0.8844, 0.4930],\n",
       "        [0.6506, 0.5582, 0.9268]])"
      ]
     },
     "execution_count": 28,
     "metadata": {},
     "output_type": "execute_result"
    }
   ],
   "source": [
    "s2 = torch.rand(2,3)\n",
    "s2"
   ]
  },
  {
   "cell_type": "code",
   "execution_count": 29,
   "metadata": {},
   "outputs": [
    {
     "data": {
      "text/plain": [
       "tensor([[[0.6762, 0.5598, 0.9276],\n",
       "         [0.8154, 0.1286, 0.4169]],\n",
       "\n",
       "        [[0.8296, 0.8844, 0.4930],\n",
       "         [0.6506, 0.5582, 0.9268]]])"
      ]
     },
     "execution_count": 29,
     "metadata": {},
     "output_type": "execute_result"
    }
   ],
   "source": [
    "torch.stack((s1,s2),dim=0)"
   ]
  },
  {
   "cell_type": "code",
   "execution_count": 30,
   "metadata": {},
   "outputs": [
    {
     "data": {
      "text/plain": [
       "tensor([[[0.6762, 0.5598, 0.9276],\n",
       "         [0.8296, 0.8844, 0.4930]],\n",
       "\n",
       "        [[0.8154, 0.1286, 0.4169],\n",
       "         [0.6506, 0.5582, 0.9268]]])"
      ]
     },
     "execution_count": 30,
     "metadata": {},
     "output_type": "execute_result"
    }
   ],
   "source": [
    "torch.stack((s1,s2),dim=1)"
   ]
  },
  {
   "cell_type": "code",
   "execution_count": 32,
   "metadata": {},
   "outputs": [
    {
     "data": {
      "text/plain": [
       "(tensor([1., 1., 1., 1., 1., 1., 1., 1., 1., 1.]),\n",
       " tensor([0., 0., 0., 0., 0., 0., 0., 0., 0., 0.]))"
      ]
     },
     "execution_count": 32,
     "metadata": {},
     "output_type": "execute_result"
    }
   ],
   "source": [
    "w1 = torch.ones(10)\n",
    "w2 = torch.zeros(10)\n",
    "w1,w2"
   ]
  },
  {
   "cell_type": "code",
   "execution_count": 33,
   "metadata": {},
   "outputs": [
    {
     "data": {
      "text/plain": [
       "tensor([[1., 1., 1., 1., 1., 1., 1., 1., 1., 1.],\n",
       "        [0., 0., 0., 0., 0., 0., 0., 0., 0., 0.]])"
      ]
     },
     "execution_count": 33,
     "metadata": {},
     "output_type": "execute_result"
    }
   ],
   "source": [
    "torch.stack((w1,w2),dim=0)"
   ]
  },
  {
   "cell_type": "code",
   "execution_count": 34,
   "metadata": {},
   "outputs": [
    {
     "data": {
      "text/plain": [
       "tensor([[1., 0.],\n",
       "        [1., 0.],\n",
       "        [1., 0.],\n",
       "        [1., 0.],\n",
       "        [1., 0.],\n",
       "        [1., 0.],\n",
       "        [1., 0.],\n",
       "        [1., 0.],\n",
       "        [1., 0.],\n",
       "        [1., 0.]])"
      ]
     },
     "execution_count": 34,
     "metadata": {},
     "output_type": "execute_result"
    }
   ],
   "source": [
    "torch.stack((w1,w2),dim=1)"
   ]
  },
  {
   "cell_type": "code",
   "execution_count": 38,
   "metadata": {},
   "outputs": [
    {
     "data": {
      "text/plain": [
       "tensor([[1., 0.],\n",
       "        [1., 0.],\n",
       "        [1., 0.],\n",
       "        [1., 0.],\n",
       "        [1., 0.],\n",
       "        [1., 0.],\n",
       "        [1., 0.],\n",
       "        [1., 0.],\n",
       "        [1., 0.],\n",
       "        [1., 0.]])"
      ]
     },
     "execution_count": 38,
     "metadata": {},
     "output_type": "execute_result"
    }
   ],
   "source": [
    "t1 = torch.stack((w1,w2),dim=1)\n",
    "t1"
   ]
  },
  {
   "cell_type": "code",
   "execution_count": 39,
   "metadata": {},
   "outputs": [
    {
     "name": "stdout",
     "output_type": "stream",
     "text": [
      "1.0 0.0\n",
      "1.0 0.0\n",
      "1.0 0.0\n",
      "1.0 0.0\n",
      "1.0 0.0\n",
      "1.0 0.0\n",
      "1.0 0.0\n",
      "1.0 0.0\n",
      "1.0 0.0\n",
      "1.0 0.0\n"
     ]
    }
   ],
   "source": [
    "for t in t1:\n",
    "    a,b = t.tolist()\n",
    "    print(a,b)"
   ]
  },
  {
   "cell_type": "code",
   "execution_count": null,
   "metadata": {},
   "outputs": [],
   "source": []
  },
  {
   "cell_type": "markdown",
   "metadata": {},
   "source": [
    "# 二、数组操作"
   ]
  },
  {
   "cell_type": "markdown",
   "metadata": {},
   "source": [
    "## 1. torch.sum"
   ]
  },
  {
   "cell_type": "code",
   "execution_count": 48,
   "metadata": {},
   "outputs": [
    {
     "data": {
      "text/plain": [
       "tensor([[-0.3580, -0.3733,  0.9526, -0.2283,  1.9288],\n",
       "        [ 1.3071, -1.1372, -0.5722, -1.2409, -0.0080],\n",
       "        [ 0.5829, -1.0200, -0.1185, -1.2181,  0.0603],\n",
       "        [-0.6280,  0.9144, -0.0768,  0.0363, -0.4285],\n",
       "        [-0.7456,  0.4093, -1.8571,  0.1461,  1.0394],\n",
       "        [ 1.6432, -1.3011, -0.8470, -0.7020,  0.1546],\n",
       "        [ 0.9789, -0.3996, -0.1452,  0.3209,  0.6135],\n",
       "        [ 0.2313,  0.7755,  0.8359, -1.2404,  0.1416],\n",
       "        [ 0.1149,  0.5541, -0.5762,  0.4889, -0.5913],\n",
       "        [-0.4622,  0.3965,  1.5930, -0.3442,  1.0517]])"
      ]
     },
     "execution_count": 48,
     "metadata": {},
     "output_type": "execute_result"
    }
   ],
   "source": [
    "ss = torch.randn(10,5)\n",
    "ss"
   ]
  },
  {
   "cell_type": "code",
   "execution_count": 50,
   "metadata": {},
   "outputs": [
    {
     "data": {
      "text/plain": [
       "tensor([ 2.6644, -1.1814, -0.8113, -3.9817,  3.9621])"
      ]
     },
     "execution_count": 50,
     "metadata": {},
     "output_type": "execute_result"
    }
   ],
   "source": [
    "torch.sum(ss,dim=0) #按列求和"
   ]
  },
  {
   "cell_type": "code",
   "execution_count": 51,
   "metadata": {},
   "outputs": [
    {
     "data": {
      "text/plain": [
       "tensor([ 1.9218, -1.6512, -1.7134, -0.1827, -1.0079, -1.0523,  1.3685,  0.7440,\n",
       "        -0.0095,  2.2348])"
      ]
     },
     "execution_count": 51,
     "metadata": {},
     "output_type": "execute_result"
    }
   ],
   "source": [
    "torch.sum(ss,dim=1) #按行求和"
   ]
  },
  {
   "cell_type": "code",
   "execution_count": null,
   "metadata": {},
   "outputs": [],
   "source": []
  },
  {
   "cell_type": "markdown",
   "metadata": {},
   "source": [
    "## 2. 举例说明，寻找两个数组（具有相同的列）分别满足条件的个数"
   ]
  },
  {
   "cell_type": "code",
   "execution_count": 41,
   "metadata": {},
   "outputs": [
    {
     "data": {
      "text/plain": [
       "(tensor([[ 1.0787e-01,  3.6212e-01, -6.7001e-01, -1.3113e-01, -5.6334e-01],\n",
       "         [ 3.7117e-01, -2.7837e-01,  5.3334e-01, -1.2462e-01, -4.6961e-01],\n",
       "         [ 1.0620e-01,  1.0143e+00, -1.1995e-01, -1.5577e+00,  2.1638e+00],\n",
       "         [-1.4423e+00,  6.7262e-01,  5.6922e-01, -2.6069e+00, -3.1958e-02],\n",
       "         [ 4.6898e-01, -3.3921e-01,  9.3832e-01,  1.8161e-01,  1.4255e-03],\n",
       "         [-4.4099e-01, -1.1822e+00,  4.9722e-01, -1.9459e+00, -2.0278e+00],\n",
       "         [-4.1827e-01, -1.6319e+00,  4.0082e-01, -8.6108e-01,  8.6031e-01],\n",
       "         [ 5.1789e-03, -1.0438e+00,  1.4234e+00, -8.3692e-01, -8.9327e-01],\n",
       "         [ 1.1142e+00,  2.2890e+00,  9.1615e-03,  4.9670e-01, -4.2941e-01],\n",
       "         [-4.6739e-01, -1.0803e+00, -6.6007e-01,  1.0975e+00, -1.6250e+00],\n",
       "         [ 8.8541e-01,  6.2591e-01,  1.4147e+00, -1.0127e+00,  1.9216e-01],\n",
       "         [ 1.2020e+00, -1.8767e-01, -1.0581e-01,  4.7640e-02,  5.6826e-01],\n",
       "         [-5.0824e-01,  7.2207e-01,  1.1469e-01, -3.0354e-01, -5.7193e-01],\n",
       "         [-1.6786e+00, -2.0825e-01,  7.5341e-02, -1.5638e+00,  9.2302e-01],\n",
       "         [ 1.2906e+00,  1.2738e+00, -4.2465e-01,  2.9686e-01, -1.8713e+00],\n",
       "         [ 7.4944e-02,  1.6607e-01,  1.0455e+00, -5.7186e-01,  7.7246e-01],\n",
       "         [-1.3172e-01, -3.7788e-01, -5.4512e-01, -3.2986e-01,  1.2026e+00],\n",
       "         [-2.6471e-01, -4.2183e-01,  9.9185e-01,  8.2221e-01, -9.7715e-01],\n",
       "         [-1.3714e-01, -5.1784e-01, -1.0706e-01,  2.4261e+00,  1.1298e+00],\n",
       "         [ 2.7270e-01,  7.3282e-01,  1.5422e-01, -4.9846e-01,  1.2631e+00]]),\n",
       " tensor([[0.0064, 0.2773, 0.6650, 0.3728, 0.1938],\n",
       "         [0.2022, 0.4849, 0.1597, 0.2846, 0.5781],\n",
       "         [0.5958, 0.6348, 0.5120, 0.5045, 0.3732],\n",
       "         [0.7840, 0.0808, 0.4068, 0.5470, 0.7440],\n",
       "         [0.7738, 0.2075, 0.9645, 0.8400, 0.1133],\n",
       "         [0.3799, 0.3262, 0.0764, 0.6290, 0.0100],\n",
       "         [0.0138, 0.2095, 0.9954, 0.1325, 0.6177],\n",
       "         [0.8204, 0.2459, 0.5248, 0.9117, 0.1878],\n",
       "         [0.2975, 0.3896, 0.3241, 0.1220, 0.2994],\n",
       "         [0.9046, 0.1916, 0.7281, 0.7476, 0.5030],\n",
       "         [0.5313, 0.1954, 0.4869, 0.7355, 0.8207],\n",
       "         [0.4611, 0.4371, 0.9435, 0.3310, 0.5528],\n",
       "         [0.9957, 0.9361, 0.3405, 0.5885, 0.7228],\n",
       "         [0.5734, 0.7717, 0.9719, 0.0430, 0.7723],\n",
       "         [0.4081, 0.0176, 0.9468, 0.2677, 0.7340],\n",
       "         [0.3430, 0.3015, 0.2948, 0.9503, 0.9144],\n",
       "         [0.7708, 0.7227, 0.2422, 0.0042, 0.2820],\n",
       "         [0.2663, 0.0134, 0.5405, 0.6676, 0.9037],\n",
       "         [0.3350, 0.2978, 0.5059, 0.0910, 0.7983],\n",
       "         [0.3290, 0.3677, 0.7292, 0.0921, 0.6261]]))"
      ]
     },
     "execution_count": 41,
     "metadata": {},
     "output_type": "execute_result"
    }
   ],
   "source": [
    "h1 = torch.randn(20,5)\n",
    "h2 = torch.rand(20,5)\n",
    "h1,h2"
   ]
  },
  {
   "cell_type": "code",
   "execution_count": 43,
   "metadata": {},
   "outputs": [
    {
     "data": {
      "text/plain": [
       "tensor([ True,  True,  True, False,  True, False, False,  True,  True, False,\n",
       "         True,  True, False, False,  True,  True, False, False, False,  True])"
      ]
     },
     "execution_count": 43,
     "metadata": {},
     "output_type": "execute_result"
    }
   ],
   "source": [
    "mask1 = h1[:,0] > 0\n",
    "mask1"
   ]
  },
  {
   "cell_type": "code",
   "execution_count": 44,
   "metadata": {},
   "outputs": [
    {
     "data": {
      "text/plain": [
       "tensor([False, False,  True,  True,  True, False, False,  True, False,  True,\n",
       "         True, False,  True,  True, False, False,  True, False, False, False])"
      ]
     },
     "execution_count": 44,
     "metadata": {},
     "output_type": "execute_result"
    }
   ],
   "source": [
    "mask2 = h2[:,0] > 0.5\n",
    "mask2"
   ]
  },
  {
   "cell_type": "code",
   "execution_count": 45,
   "metadata": {},
   "outputs": [
    {
     "data": {
      "text/plain": [
       "tensor(11)"
      ]
     },
     "execution_count": 45,
     "metadata": {},
     "output_type": "execute_result"
    }
   ],
   "source": [
    "torch.sum(mask1)"
   ]
  },
  {
   "cell_type": "code",
   "execution_count": 46,
   "metadata": {},
   "outputs": [
    {
     "data": {
      "text/plain": [
       "tensor(9)"
      ]
     },
     "execution_count": 46,
     "metadata": {},
     "output_type": "execute_result"
    }
   ],
   "source": [
    "torch.sum(mask2)"
   ]
  },
  {
   "cell_type": "code",
   "execution_count": 47,
   "metadata": {},
   "outputs": [
    {
     "data": {
      "text/plain": [
       "tensor(4)"
      ]
     },
     "execution_count": 47,
     "metadata": {},
     "output_type": "execute_result"
    }
   ],
   "source": [
    "torch.sum(mask1 & mask2) #两个数组共同满足条件的索引值个数为4"
   ]
  },
  {
   "cell_type": "code",
   "execution_count": null,
   "metadata": {},
   "outputs": [],
   "source": []
  },
  {
   "cell_type": "markdown",
   "metadata": {},
   "source": [
    "## 3. 对齐输出\n",
    "\n",
    "- 左对齐 .ljust(10, \"-\")\n",
    "- 右对齐 .rjust(10, \"-\")\n",
    "- 居中对齐 .center(10, \"-\")"
   ]
  },
  {
   "cell_type": "code",
   "execution_count": 53,
   "metadata": {},
   "outputs": [
    {
     "data": {
      "text/plain": [
       "'airplane'"
      ]
     },
     "execution_count": 53,
     "metadata": {},
     "output_type": "execute_result"
    }
   ],
   "source": [
    "classes = ['airplane', 'car', 'bird', 'cat', 'deer', 'dog', 'frog', 'horse', 'ship', 'truck']\n",
    "classes[0]"
   ]
  },
  {
   "cell_type": "code",
   "execution_count": 54,
   "metadata": {},
   "outputs": [
    {
     "name": "stdout",
     "output_type": "stream",
     "text": [
      "airplane********\n",
      "car********\n",
      "bird********\n",
      "cat********\n",
      "deer********\n",
      "dog********\n",
      "frog********\n",
      "horse********\n",
      "ship********\n",
      "truck********\n"
     ]
    }
   ],
   "source": [
    "for i in range(10):\n",
    "    print(\"%s\".ljust(10,\"*\")%classes[i])"
   ]
  },
  {
   "cell_type": "code",
   "execution_count": 55,
   "metadata": {},
   "outputs": [
    {
     "name": "stdout",
     "output_type": "stream",
     "text": [
      "********airplane\n",
      "********car\n",
      "********bird\n",
      "********cat\n",
      "********deer\n",
      "********dog\n",
      "********frog\n",
      "********horse\n",
      "********ship\n",
      "********truck\n"
     ]
    }
   ],
   "source": [
    "for i in range(10):\n",
    "    print(\"%s\".rjust(10,\"*\")%classes[i])"
   ]
  },
  {
   "cell_type": "code",
   "execution_count": 56,
   "metadata": {},
   "outputs": [
    {
     "name": "stdout",
     "output_type": "stream",
     "text": [
      "****airplane****\n",
      "****car****\n",
      "****bird****\n",
      "****cat****\n",
      "****deer****\n",
      "****dog****\n",
      "****frog****\n",
      "****horse****\n",
      "****ship****\n",
      "****truck****\n"
     ]
    }
   ],
   "source": [
    "for i in range(10):\n",
    "    print(\"%s\".center(10,\"*\")%classes[i])"
   ]
  },
  {
   "cell_type": "code",
   "execution_count": 57,
   "metadata": {},
   "outputs": [
    {
     "name": "stdout",
     "output_type": "stream",
     "text": [
      "long long long .              short.              \n",
      "short.                        long long long .    \n"
     ]
    }
   ],
   "source": [
    "s1 = 'long long long .'\n",
    "s2 = 'short.'\n",
    " \n",
    "print ('%-30s%-20s' %(s1,s2)) #'%-30s' 含义是 左对齐，且占用30个字符位 \n",
    "print ('%-30s%-20s' %(s2,s1))"
   ]
  },
  {
   "cell_type": "code",
   "execution_count": 58,
   "metadata": {},
   "outputs": [
    {
     "name": "stdout",
     "output_type": "stream",
     "text": [
      "              long long long .              short.\n",
      "long long long .              short.              \n",
      "       long long long .              short.       \n"
     ]
    }
   ],
   "source": [
    "s1 = 'long long long .'\n",
    "s2 = 'short.'\n",
    "print ('{:>30}{:>20}' .format(s1,s2)) #{:30d}含义是 右对齐，且占用30个字符位 \n",
    "print ('{:<30}{:<20}' .format(s1,s2)) #{:<30d}含义是 左对齐，且占用30个字符位 \n",
    "print ('{:^30}{:^20}' .format(s1,s2)) #{:<30d}含义是 左对齐，且占用30个字符位 "
   ]
  },
  {
   "cell_type": "code",
   "execution_count": null,
   "metadata": {},
   "outputs": [],
   "source": []
  },
  {
   "cell_type": "code",
   "execution_count": null,
   "metadata": {},
   "outputs": [],
   "source": []
  },
  {
   "cell_type": "code",
   "execution_count": null,
   "metadata": {},
   "outputs": [],
   "source": []
  },
  {
   "cell_type": "code",
   "execution_count": null,
   "metadata": {},
   "outputs": [],
   "source": []
  },
  {
   "cell_type": "code",
   "execution_count": null,
   "metadata": {},
   "outputs": [],
   "source": []
  },
  {
   "cell_type": "code",
   "execution_count": null,
   "metadata": {},
   "outputs": [],
   "source": []
  },
  {
   "cell_type": "code",
   "execution_count": null,
   "metadata": {},
   "outputs": [],
   "source": []
  },
  {
   "cell_type": "code",
   "execution_count": null,
   "metadata": {},
   "outputs": [],
   "source": []
  },
  {
   "cell_type": "code",
   "execution_count": null,
   "metadata": {},
   "outputs": [],
   "source": []
  },
  {
   "cell_type": "code",
   "execution_count": null,
   "metadata": {},
   "outputs": [],
   "source": []
  },
  {
   "cell_type": "code",
   "execution_count": null,
   "metadata": {},
   "outputs": [],
   "source": []
  },
  {
   "cell_type": "code",
   "execution_count": null,
   "metadata": {},
   "outputs": [],
   "source": []
  },
  {
   "cell_type": "code",
   "execution_count": null,
   "metadata": {},
   "outputs": [],
   "source": []
  },
  {
   "cell_type": "code",
   "execution_count": null,
   "metadata": {},
   "outputs": [],
   "source": []
  },
  {
   "cell_type": "code",
   "execution_count": null,
   "metadata": {},
   "outputs": [],
   "source": []
  },
  {
   "cell_type": "code",
   "execution_count": null,
   "metadata": {},
   "outputs": [],
   "source": []
  },
  {
   "cell_type": "code",
   "execution_count": null,
   "metadata": {},
   "outputs": [],
   "source": []
  }
 ],
 "metadata": {
  "kernelspec": {
   "display_name": "Python 3",
   "language": "python",
   "name": "python3"
  },
  "language_info": {
   "codemirror_mode": {
    "name": "ipython",
    "version": 3
   },
   "file_extension": ".py",
   "mimetype": "text/x-python",
   "name": "python",
   "nbconvert_exporter": "python",
   "pygments_lexer": "ipython3",
   "version": "3.7.9"
  }
 },
 "nbformat": 4,
 "nbformat_minor": 4
}
